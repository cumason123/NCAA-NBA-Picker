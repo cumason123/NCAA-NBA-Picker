{
 "cells": [
  {
   "cell_type": "markdown",
   "metadata": {},
   "source": [
    "## NCAA Early Applicant to NBA Picker\n",
    "Today we are trying to see if we can determine whether given a USA NCAA player who's applied to the NBA, whether that person is likely to get drafted. We shall do this through a variety of techniques. Firstly we must generate our own unique dataset utilizing BigQuery's ncaa_mbb dataset. Our first issue with the ncaa_mbb dataset is we have no idea whether any of the applicants have applied to the nba. To solve this issue, we shall partition the data by adding another categorical feature to each player indicating whether this player applied to the nba. Specifically we will label whether a player is an early nba applicant, simply because early applicants seemed to be the only reliable form of data we could find regarding nba applicants. "
   ]
  },
  {
   "cell_type": "code",
   "execution_count": 11,
   "metadata": {},
   "outputs": [],
   "source": [
    "# Simple python libraries\n",
    "import numpy as np\n",
    "import matplotlib.pyplot as plt\n",
    "import csv\n",
    "from data_loader.DatasetsGenerator import getall\n",
    "from data_loader.Draft import Draft\n",
    "from data_loader.Applicants import Applicants\n",
    "import os\n",
    "import pandas as pd\n",
    "# from data_loader import Draft, DatasetsGenerator\n",
    "%matplotlib inline\n",
    "\n",
    "# Generate all custom made datasets\n",
    "getall()\n",
    "\n",
    "# Create an nba drafted validation class\n",
    "draft = Draft()\n",
    "\n",
    "# Create a nba applicant validation class\n",
    "applied = Applicants()"
   ]
  },
  {
   "cell_type": "code",
   "execution_count": 12,
   "metadata": {},
   "outputs": [],
   "source": [
    "# Now we're going to get player box and player info data sets\n",
    "player_box = pd.read_csv(\"./data_loader/data/ncaa/player_box.csv\")\n",
    "player_info = pd.read_csv(\"./data_loader/data/ncaa/player_info.csv\")"
   ]
  },
  {
   "cell_type": "code",
   "execution_count": 13,
   "metadata": {},
   "outputs": [],
   "source": [
    "# Filter out unwanted values\n",
    "player_box = player_box[player_box['player_id']!=-101]\n",
    "player_box = player_box[~player_box['player_id'].isnull()]\n",
    "player_box = player_box[player_box['season']!=None]\n",
    "player_box = player_box[player_box['season']!=2018]\n",
    "\n",
    "player_info = player_info[player_info['player_id']!=-101]\n",
    "player_info = player_info[~player_info['player_id'].isnull()]\n",
    "player_info = player_info[player_info['season']!=None]\n",
    "player_info = player_info[player_info['season']!=2018]\n",
    "player_info = player_info[~player_info['first_name'].isnull()]\n",
    "player_info = player_info[~player_info['last_name'].isnull()]\n",
    "\n",
    "# Combine the two datasets\n",
    "player_box[\"player_id_AND_season\"] = player_box[\"player_id\"].map(int).map(str) + \"_AND_\" + player_box[\"season\"].map(int).map(str) \n",
    "player_info[\"player_id_AND_season\"] = player_info[\"player_id\"].map(int).map(str) + \"_AND_\" + player_info[\"season\"].map(int).map(str) \n",
    "player_stats = pd.merge(player_box, player_info, on='player_id_AND_season', how='outer')"
   ]
  },
  {
   "cell_type": "code",
   "execution_count": null,
   "metadata": {},
   "outputs": [],
   "source": [
    "player_stats = player_stats[['pts', 'fga', 'fga3', 'fgm', 'fgm3', 'fta', 'ftm', 'ast', 'blk', 'stl', 'dreb', 'oreb', 'reb', 'pf', 'tf', 'tov', 'mins_played', 'grade_level', 'division', 'first_name', 'last_name', 'height_in',\n",
    "'school', 'conference', 'position', \"season_x\"]]\n",
    "player_stats = player_stats.dropna()\n",
    "\n",
    "# TODO optimize, takes too long\n",
    "# Appends categorical argument of whether player applied to the nba\n",
    "player_stats = applied.join(player_stats)\n",
    "\n",
    "# Appends categorical argument of whether player was accepted into the nba\n",
    "# player_stats = draft.join(player_stats)\n",
    "# player_stats\n"
   ]
  },
  {
   "cell_type": "code",
   "execution_count": null,
   "metadata": {},
   "outputs": [],
   "source": [
    "# player_stats = player_stats.dropna()\n",
    "# player_stats"
   ]
  },
  {
   "cell_type": "code",
   "execution_count": null,
   "metadata": {},
   "outputs": [],
   "source": []
  }
 ],
 "metadata": {
  "kernelspec": {
   "display_name": "Python 3",
   "language": "python",
   "name": "python3"
  },
  "language_info": {
   "codemirror_mode": {
    "name": "ipython",
    "version": 3
   },
   "file_extension": ".py",
   "mimetype": "text/x-python",
   "name": "python",
   "nbconvert_exporter": "python",
   "pygments_lexer": "ipython3",
   "version": "3.6.8"
  }
 },
 "nbformat": 4,
 "nbformat_minor": 2
}
