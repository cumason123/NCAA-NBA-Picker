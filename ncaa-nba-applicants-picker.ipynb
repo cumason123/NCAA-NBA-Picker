{
 "cells": [
  {
   "cell_type": "markdown",
   "metadata": {},
   "source": [
    "## NCAA Early Applicant to NBA Picker\n",
    "Today we are trying to see if we can determine whether given a USA NCAA player who's applied to the NBA, whether that person is likely to get drafted. We shall do this through a variety of techniques. Firstly we must generate our own unique dataset utilizing BigQuery's ncaa_mbb dataset. Our first issue with the ncaa_mbb dataset is we have no idea whether any of the applicants have applied to the nba. To solve this issue, we shall partition the data by adding another categorical feature to each player indicating whether this player applied to the nba. Specifically we will label whether a player is an early nba applicant, simply because early applicants seemed to be the only reliable form of data we could find regarding nba applicants. "
   ]
  },
  {
   "cell_type": "code",
   "execution_count": 2,
   "metadata": {},
   "outputs": [],
   "source": [
    "# Simple python libraries\n",
    "import numpy as np\n",
    "import matplotlib.pyplot as plt\n",
    "import csv\n",
    "from data_loader.DatasetsGenerator import getall\n",
    "from data_loader.Draft import Draft\n",
    "from data_loader.Applicants import Applicants\n",
    "# from data_loader import Draft, DatasetsGenerator\n",
    "%matplotlib inline\n",
    "\n",
    "# Generate all custom made datasets\n",
    "getall()\n",
    "\n",
    "# Create an nba drafted validation class\n",
    "draft = Draft()\n",
    "\n",
    "# Create a nba applicant validation class\n",
    "applicants = Applicants()"
   ]
  },
  {
   "cell_type": "code",
   "execution_count": 34,
   "metadata": {},
   "outputs": [],
   "source": [
    "# Directories with early_applicants unparsed labels\n"
   ]
  },
  {
   "cell_type": "code",
   "execution_count": null,
   "metadata": {},
   "outputs": [],
   "source": []
  }
 ],
 "metadata": {
  "kernelspec": {
   "display_name": "Python 3",
   "language": "python",
   "name": "python3"
  },
  "language_info": {
   "codemirror_mode": {
    "name": "ipython",
    "version": 3
   },
   "file_extension": ".py",
   "mimetype": "text/x-python",
   "name": "python",
   "nbconvert_exporter": "python",
   "pygments_lexer": "ipython3",
   "version": "3.6.8"
  }
 },
 "nbformat": 4,
 "nbformat_minor": 2
}
