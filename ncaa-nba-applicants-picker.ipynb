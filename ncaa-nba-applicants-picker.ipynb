{
 "cells": [
  {
   "cell_type": "markdown",
   "metadata": {},
   "source": [
    "## NCAA Early Applicant to NBA Picker\n",
    "Today we are trying to see if we can determine whether given a USA NCAA player who's applied to the NBA, whether that person is likely to get drafted. We shall do this through a variety of techniques. Firstly we must generate our own unique dataset utilizing BigQuery's ncaa_mbb dataset. Our first issue with the ncaa_mbb dataset is we have no idea whether any of the applicants have applied to the nba. To solve this issue, we shall partition the data by adding another categorical feature to each player indicating whether this player applied to the nba. Specifically we will label whether a player is an early nba applicant, simply because early applicants seemed to be the only reliable form of data we could find regarding nba applicants. "
   ]
  },
  {
   "cell_type": "code",
   "execution_count": 1,
   "metadata": {},
   "outputs": [],
   "source": [
    "# Simple python libraries\n",
    "import numpy as np\n",
    "import matplotlib.pyplot as plt\n",
    "import csv\n",
    "from data_loader.DatasetsGenerator import getall\n",
    "from data_loader.Draft import Draft\n",
    "from data_loader.Applicants import Applicants\n",
    "import os\n",
    "import pandas as pd\n",
    "# from data_loader import Draft, DatasetsGenerator\n",
    "%matplotlib inline\n",
    "\n",
    "# Generate all custom made datasets\n",
    "getall()\n",
    "\n",
    "# Create an nba drafted validation class\n",
    "draft = Draft()\n",
    "\n",
    "# Create a nba applicant validation class\n",
    "applied = Applicants()"
   ]
  },
  {
   "cell_type": "code",
   "execution_count": 2,
   "metadata": {},
   "outputs": [
    {
     "name": "stderr",
     "output_type": "stream",
     "text": [
      "/Library/Frameworks/Python.framework/Versions/3.6/lib/python3.6/site-packages/IPython/core/interactiveshell.py:3020: DtypeWarning: Columns (5) have mixed types. Specify dtype option on import or set low_memory=False.\n",
      "  interactivity=interactivity, compiler=compiler, result=result)\n"
     ]
    }
   ],
   "source": [
    "player_box = pd.read_csv(\"./data_loader/data/ncaa/player_box.csv\")\n",
    "player_info = pd.read_csv(\"./data_loader/data/ncaa/player_info.csv\")\n",
    "\n",
    "# Filter out unwanted values\n",
    "player_box = player_box[player_box['player_id']!=-101]\n",
    "player_box = player_box[~player_box['player_id'].isnull()]\n",
    "player_box = player_box[player_box['season']!=None]\n",
    "player_box = player_box[player_box['season']!=2018]\n",
    "\n",
    "player_info = player_info[player_info['player_id']!=-101]\n",
    "player_info = player_info[~player_info['player_id'].isnull()]\n",
    "player_info = player_info[player_info['season']!=None]\n",
    "player_info = player_info[player_info['season']!=2018]\n",
    "player_info = player_info[~player_info['first_name'].isnull()]\n",
    "player_info = player_info[~player_info['last_name'].isnull()]\n",
    "\n",
    "# Combine the two datasets\n",
    "player_box[\"player_id_AND_season\"] = player_box[\"player_id\"].map(int).map(str) + \"_AND_\" + player_box[\"season\"].map(int).map(str) \n",
    "player_info[\"player_id_AND_season\"] = player_info[\"player_id\"].map(int).map(str) + \"_AND_\" + player_info[\"season\"].map(int).map(str) \n",
    "player_stats = pd.merge(player_box, player_info, on='player_id_AND_season', how='outer')\n",
    "player_stats = player_stats.dropna()\n",
    "\n",
    "# Get only drafted players\n",
    "player_stats = applied.join(player_stats)\n",
    "\n",
    "# Add drafted categorical value\n",
    "player_stats = draft.join(player_stats)\n",
    "player_stats.to_csv('./data_loader/data/ncaa/player_stats.csv')\n"
   ]
  },
  {
   "cell_type": "code",
   "execution_count": 3,
   "metadata": {},
   "outputs": [
    {
     "data": {
      "text/plain": [
       "1382"
      ]
     },
     "execution_count": 3,
     "metadata": {},
     "output_type": "execute_result"
    }
   ],
   "source": [
    "len(player_stats)"
   ]
  },
  {
   "cell_type": "code",
   "execution_count": null,
   "metadata": {},
   "outputs": [],
   "source": []
  }
 ],
 "metadata": {
  "kernelspec": {
   "display_name": "Python 3",
   "language": "python",
   "name": "python3"
  },
  "language_info": {
   "codemirror_mode": {
    "name": "ipython",
    "version": 3
   },
   "file_extension": ".py",
   "mimetype": "text/x-python",
   "name": "python",
   "nbconvert_exporter": "python",
   "pygments_lexer": "ipython3",
   "version": "3.6.8"
  }
 },
 "nbformat": 4,
 "nbformat_minor": 2
}
