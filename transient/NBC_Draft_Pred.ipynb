{
 "cells": [
  {
   "cell_type": "code",
   "execution_count": 0,
   "metadata": {
    "id": "_jPgFx3Klxbb",
    "colab_type": "code",
    "outputId": "f3ddc666-2341-4624-a982-868d46f8672b",
    "colab": {
     "base_uri": "https://localhost:8080/",
     "height": 139.0
    }
   },
   "outputs": [
    {
     "name": "stdout",
     "output_type": "stream",
     "text": [
      "Authenticated\n",
      "Copying gs://stardust-hackathon/ncaa-mbb/player_box.csv...\n",
      "- [1 files][ 71.6 MiB/ 71.6 MiB]                                                \n",
      "Operation completed over 1 objects/71.6 MiB.                                     \n"
     ]
    },
    {
     "name": "stderr",
     "output_type": "stream",
     "text": [
      "/usr/local/lib/python3.6/dist-packages/IPython/core/interactiveshell.py:2718: DtypeWarning: Columns (5) have mixed types. Specify dtype option on import or set low_memory=False.\n",
      "  interactivity=interactivity, compiler=compiler, result=result)\n"
     ]
    }
   ],
   "source": [
    "from google.colab import auth\n",
    "auth.authenticate_user()\n",
    "print('Authenticated')\n",
    "\n",
    "import tensorflow as tf\n",
    "import pandas as pd\n",
    "import numpy as np\n",
    "\n",
    "!gsutil cp gs://stardust-hackathon/ncaa-mbb/player_box.csv /tmp/\n",
    "player_box = pd.read_csv(\"/tmp/player_box.csv\")"
   ]
  },
  {
   "cell_type": "code",
   "execution_count": 63,
   "metadata": {
    "id": "ottORga0mka1",
    "colab_type": "code",
    "colab": {
     "base_uri": "https://localhost:8080/",
     "height": 125.0
    },
    "outputId": "f6568c33-8d31-415f-92d7-0e07bb976c4f"
   },
   "outputs": [
    {
     "name": "stdout",
     "output_type": "stream",
     "text": [
      "Copying gs://stardust-hackathon/ncaa-mbb/player_box.csv...\n",
      "- [1 files][ 71.6 MiB/ 71.6 MiB]                                                \n",
      "Operation completed over 1 objects/71.6 MiB.                                     \n"
     ]
    },
    {
     "name": "stderr",
     "output_type": "stream",
     "text": [
      "/usr/local/lib/python3.6/dist-packages/IPython/core/interactiveshell.py:2718: DtypeWarning: Columns (5) have mixed types. Specify dtype option on import or set low_memory=False.\n",
      "  interactivity=interactivity, compiler=compiler, result=result)\n"
     ]
    }
   ],
   "source": [
    "!gsutil cp gs://stardust-hackathon/ncaa-mbb/player_box.csv /tmp/\n",
    "player_box = pd.read_csv(\"/tmp/player_box.csv\")"
   ]
  },
  {
   "cell_type": "code",
   "execution_count": 64,
   "metadata": {
    "id": "aMjiXJcomm-F",
    "colab_type": "code",
    "colab": {
     "base_uri": "https://localhost:8080/",
     "height": 70.0
    },
    "outputId": "97ef365c-3959-418e-d443-8e8c851dc7b1"
   },
   "outputs": [
    {
     "name": "stdout",
     "output_type": "stream",
     "text": [
      "Copying gs://stardust-hackathon/ncaa-mbb/player_info.csv...\n",
      "/ [0 files][    0.0 B/  8.5 MiB]                                                \r/ [1 files][  8.5 MiB/  8.5 MiB]                                                \r\n",
      "Operation completed over 1 objects/8.5 MiB.                                      \n"
     ]
    }
   ],
   "source": [
    "!gsutil cp gs://stardust-hackathon/ncaa-mbb/player_info.csv /tmp/\n",
    "player_info = pd.read_csv(\"/tmp/player_info.csv\")"
   ]
  },
  {
   "cell_type": "code",
   "execution_count": 0,
   "metadata": {
    "id": "l6UoR1F2UOys",
    "colab_type": "code",
    "outputId": "dac5c487-1c9f-4ae2-ea3c-592d1b364eca",
    "colab": {
     "base_uri": "https://localhost:8080/",
     "height": 34.0
    }
   },
   "outputs": [
    {
     "name": "stdout",
     "output_type": "stream",
     "text": [
      "1\n"
     ]
    }
   ],
   "source": [
    "class Draft():\n",
    "  def __init__(self):  \n",
    "    self.data = {}\n",
    "    for year in range(2014, 2019):\n",
    "      self.data[year] = pd.read_csv('{0}.csv'.format(year))\n",
    "      \n",
    "  def drafted(self, name, year):\n",
    "    keys = self.data.keys()\n",
    "    if year in keys:\n",
    "      dataset = self.data[year]\n",
    "      for player in dataset.Player:\n",
    "        if name == player:\n",
    "          return 1\n",
    "    return 0\n",
    "      \n",
    "    \n",
    "draft = Draft()\n",
    "print(draft.drafted('Markelle Fultz', 2017))"
   ]
  },
  {
   "cell_type": "code",
   "execution_count": 0,
   "metadata": {
    "id": "vwNf-VY4P6kn",
    "colab_type": "code",
    "outputId": "9ed761e1-e4aa-418f-93c8-0138638e1000",
    "colab": {
     "base_uri": "https://localhost:8080/",
     "height": 904.0
    }
   },
   "outputs": [
    {
     "name": "stdout",
     "output_type": "stream",
     "text": [
      "Copying gs://stardust-hackathon/ncaa-mbb/player_info.csv...\n",
      "/ [1 files][  8.5 MiB/  8.5 MiB]                                                \n",
      "Operation completed over 1 objects/8.5 MiB.                                      \n",
      "Copying gs://stardust-hackathon/ncaa-mbb/pbp_000000000000.csv...\n",
      "- [1 files][126.5 MiB/126.5 MiB]                                                \n",
      "Operation completed over 1 objects/126.5 MiB.                                    \n"
     ]
    },
    {
     "name": "stderr",
     "output_type": "stream",
     "text": [
      "/usr/local/lib/python3.6/dist-packages/IPython/core/interactiveshell.py:2718: DtypeWarning: Columns (19) have mixed types. Specify dtype option on import or set low_memory=False.\n",
      "  interactivity=interactivity, compiler=compiler, result=result)\n"
     ]
    },
    {
     "name": "stdout",
     "output_type": "stream",
     "text": [
      "Copying gs://stardust-hackathon/ncaa-mbb/pbp_000000000001.csv...\n",
      "\\ [1 files][126.8 MiB/126.8 MiB]                                                \n",
      "Operation completed over 1 objects/126.8 MiB.                                    \n",
      "Copying gs://stardust-hackathon/ncaa-mbb/pbp_000000000002.csv...\n",
      "- [1 files][126.4 MiB/126.4 MiB]                                                \n",
      "Operation completed over 1 objects/126.4 MiB.                                    \n"
     ]
    },
    {
     "name": "stderr",
     "output_type": "stream",
     "text": [
      "/usr/local/lib/python3.6/dist-packages/IPython/core/interactiveshell.py:2718: DtypeWarning: Columns (20) have mixed types. Specify dtype option on import or set low_memory=False.\n",
      "  interactivity=interactivity, compiler=compiler, result=result)\n"
     ]
    },
    {
     "name": "stdout",
     "output_type": "stream",
     "text": [
      "Copying gs://stardust-hackathon/ncaa-mbb/pbp_000000000003.csv...\n",
      "- [1 files][126.5 MiB/126.5 MiB]                                                \n",
      "Operation completed over 1 objects/126.5 MiB.                                    \n",
      "Copying gs://stardust-hackathon/ncaa-mbb/pbp_000000000004.csv...\n",
      "- [1 files][126.5 MiB/126.5 MiB]                                                \n",
      "Operation completed over 1 objects/126.5 MiB.                                    \n",
      "Copying gs://stardust-hackathon/ncaa-mbb/pbp_000000000005.csv...\n",
      "- [1 files][126.5 MiB/126.5 MiB]                                                \n",
      "Operation completed over 1 objects/126.5 MiB.                                    \n",
      "Copying gs://stardust-hackathon/ncaa-mbb/pbp_000000000006.csv...\n",
      "- [1 files][126.4 MiB/126.4 MiB]                                                \n",
      "Operation completed over 1 objects/126.4 MiB.                                    \n",
      "Copying gs://stardust-hackathon/ncaa-mbb/pbp_000000000007.csv...\n",
      "- [1 files][126.3 MiB/126.3 MiB]                                                \n",
      "Operation completed over 1 objects/126.3 MiB.                                    \n",
      "Copying gs://stardust-hackathon/ncaa-mbb/pbp_000000000008.csv...\n",
      "- [1 files][126.4 MiB/126.4 MiB]                                                \n",
      "Operation completed over 1 objects/126.4 MiB.                                    \n"
     ]
    },
    {
     "name": "stderr",
     "output_type": "stream",
     "text": [
      "/usr/local/lib/python3.6/dist-packages/IPython/core/interactiveshell.py:2718: DtypeWarning: Columns (19,20) have mixed types. Specify dtype option on import or set low_memory=False.\n",
      "  interactivity=interactivity, compiler=compiler, result=result)\n"
     ]
    },
    {
     "name": "stdout",
     "output_type": "stream",
     "text": [
      "Copying gs://stardust-hackathon/ncaa-mbb/pbp_000000000009.csv...\n",
      "- [1 files][126.5 MiB/126.5 MiB]                                                \n",
      "Operation completed over 1 objects/126.5 MiB.                                    \n",
      "Copying gs://stardust-hackathon/ncaa-mbb/metrics.csv...\n",
      "/ [1 files][  682.0 B/  682.0 B]                                                \n",
      "Operation completed over 1 objects/682.0 B.                                      \n",
      "Copying gs://stardust-hackathon/ncaa-mbb/seasons.csv...\n",
      "/ [1 files][  572.0 B/  572.0 B]                                                \n",
      "Operation completed over 1 objects/572.0 B.                                      \n",
      "Copying gs://stardust-hackathon/ncaa-mbb/team_box.csv...\n",
      "/ [1 files][ 46.5 MiB/ 46.5 MiB]                                                \n",
      "Operation completed over 1 objects/46.5 MiB.                                     \n",
      "Copying gs://stardust-hackathon/ncaa-mbb/team_info.csv...\n",
      "/ [1 files][184.1 KiB/184.1 KiB]                                                \n",
      "Operation completed over 1 objects/184.1 KiB.                                    \n"
     ]
    }
   ],
   "source": [
    "!gsutil cp gs://stardust-hackathon/ncaa-mbb/player_info.csv /tmp/\n",
    "\n",
    "player_info = pd.read_csv(\"/tmp/player_info.csv\")\n",
    "\n",
    "!gsutil cp gs://stardust-hackathon/ncaa-mbb/pbp_000000000000.csv /tmp/\n",
    "pbp_000000000000 = pd.read_csv(\"/tmp/pbp_000000000000.csv\")\n",
    "\n",
    "!gsutil cp gs://stardust-hackathon/ncaa-mbb/pbp_000000000001.csv /tmp/\n",
    "pbp_000000000001 = pd.read_csv(\"/tmp/pbp_000000000001.csv\")\n",
    "\n",
    "!gsutil cp gs://stardust-hackathon/ncaa-mbb/pbp_000000000002.csv /tmp/\n",
    "pbp_000000000002 = pd.read_csv(\"/tmp/pbp_000000000002.csv\")\n",
    "\n",
    "!gsutil cp gs://stardust-hackathon/ncaa-mbb/pbp_000000000003.csv /tmp/\n",
    "pbp_000000000003 = pd.read_csv(\"/tmp/pbp_000000000003.csv\")\n",
    "\n",
    "!gsutil cp gs://stardust-hackathon/ncaa-mbb/pbp_000000000004.csv /tmp/\n",
    "pbp_000000000004 = pd.read_csv(\"/tmp/pbp_000000000004.csv\")\n",
    "\n",
    "!gsutil cp gs://stardust-hackathon/ncaa-mbb/pbp_000000000005.csv /tmp/\n",
    "pbp_000000000005 = pd.read_csv(\"/tmp/pbp_000000000005.csv\")\n",
    "\n",
    "!gsutil cp gs://stardust-hackathon/ncaa-mbb/pbp_000000000006.csv /tmp/\n",
    "pbp_000000000006 = pd.read_csv(\"/tmp/pbp_000000000006.csv\")\n",
    "\n",
    "!gsutil cp gs://stardust-hackathon/ncaa-mbb/pbp_000000000007.csv /tmp/\n",
    "pbp_000000000007 = pd.read_csv(\"/tmp/pbp_000000000007.csv\")\n",
    "\n",
    "!gsutil cp gs://stardust-hackathon/ncaa-mbb/pbp_000000000008.csv /tmp/\n",
    "pbp_000000000008 = pd.read_csv(\"/tmp/pbp_000000000008.csv\")\n",
    "\n",
    "!gsutil cp gs://stardust-hackathon/ncaa-mbb/pbp_000000000009.csv /tmp/\n",
    "pbp_000000000009 = pd.read_csv(\"/tmp/pbp_000000000009.csv\")\n",
    "\n",
    "pbp = pd.concat([pbp_000000000000, pbp_000000000001, pbp_000000000002,\n",
    "                pbp_000000000003, pbp_000000000004, pbp_000000000005,\n",
    "                pbp_000000000006, pbp_000000000007, pbp_000000000008, \n",
    "                pbp_000000000009])\n",
    "\n",
    "!gsutil cp gs://stardust-hackathon/ncaa-mbb/metrics.csv /tmp/\n",
    "metrics = pd.read_csv(\"/tmp/metrics.csv\")\n",
    "\n",
    "!gsutil cp gs://stardust-hackathon/ncaa-mbb/seasons.csv /tmp/\n",
    "seasons = pd.read_csv(\"/tmp/seasons.csv\")\n",
    "\n",
    "!gsutil cp gs://stardust-hackathon/ncaa-mbb/team_box.csv /tmp/\n",
    "team_box = pd.read_csv(\"/tmp/team_box.csv\")\n",
    "\n",
    "!gsutil cp gs://stardust-hackathon/ncaa-mbb/team_info.csv /tmp/\n",
    "team_info = pd.read_csv(\"/tmp/team_info.csv\")"
   ]
  },
  {
   "cell_type": "code",
   "execution_count": 0,
   "metadata": {
    "id": "jQ7Y_EkBP617",
    "colab_type": "code",
    "outputId": "77e556b6-e77f-4450-ee4c-f4a9a73cb861",
    "colab": {
     "base_uri": "https://localhost:8080/",
     "height": 70.0
    }
   },
   "outputs": [
    {
     "name": "stdout",
     "output_type": "stream",
     "text": [
      "Copying gs://stardust-hackathon/ncaa-mbb/player_info.csv...\n",
      "/ [1 files][  8.5 MiB/  8.5 MiB]                                                \n",
      "Operation completed over 1 objects/8.5 MiB.                                      \n"
     ]
    }
   ],
   "source": [
    "!gsutil cp gs://stardust-hackathon/ncaa-mbb/name /tmp/"
   ]
  },
  {
   "cell_type": "code",
   "execution_count": 0,
   "metadata": {
    "id": "1Ov9mFe-P695",
    "colab_type": "code",
    "colab": {}
   },
   "outputs": [],
   "source": [
    "player_box[['team_code', 'season', 'player_id', \"pts\", \"fga\", \"fga3\", \"fgm\", \"fgm3\", \"fta\", \"ftm\", \"ast\", \"blk\", \"stl\", \"dreb\", \"oreb\", \"reb\", \"pf\", \"tf\", \"tov\", \"mins_played\"]]"
   ]
  },
  {
   "cell_type": "code",
   "execution_count": 0,
   "metadata": {
    "id": "zX-68al2ZoWY",
    "colab_type": "code",
    "colab": {}
   },
   "outputs": [],
   "source": [
    "player_info[[\"grade_level\", \"division\", \"first_name\", \"last_name\", \"height_in\", \"season\", \"school\", \"conference_id\", \"player_id\", \"position\"]]"
   ]
  },
  {
   "cell_type": "code",
   "execution_count": 0,
   "metadata": {
    "id": "Wbkh-rTSltIh",
    "colab_type": "code",
    "colab": {}
   },
   "outputs": [],
   "source": [
    "player_box = player_box[player_box['player_id']!=-101]\n",
    "player_box = player_box[~player_box['player_id'].isnull()]\n",
    "player_box = player_box[player_box['season']!=None]\n",
    "player_box = player_box[player_box['season']!=2018]\n",
    "\n",
    "player_info = player_info[player_info['player_id']!=-101]\n",
    "player_info = player_info[~player_info['player_id'].isnull()]\n",
    "player_info = player_info[player_info['season']!=None]\n",
    "player_info = player_info[player_info['season']!=2018]"
   ]
  },
  {
   "cell_type": "code",
   "execution_count": 0,
   "metadata": {
    "id": "wwlzzlx4iAxB",
    "colab_type": "code",
    "colab": {}
   },
   "outputs": [],
   "source": [
    "player_box[\"player_id_AND_season\"] = player_box[\"player_id\"].map(int).map(str) + \"_AND_\" + player_box[\"season\"].map(int).map(str) "
   ]
  },
  {
   "cell_type": "code",
   "execution_count": 0,
   "metadata": {
    "id": "eK0mTxbSkSFi",
    "colab_type": "code",
    "colab": {}
   },
   "outputs": [],
   "source": [
    "player_info[\"player_id_AND_season\"] = player_info[\"player_id\"].map(int).map(str) + \"_AND_\" + player_info[\"season\"].map(int).map(str) "
   ]
  },
  {
   "cell_type": "code",
   "execution_count": 0,
   "metadata": {
    "id": "Hx5IVLk1hioe",
    "colab_type": "code",
    "colab": {}
   },
   "outputs": [],
   "source": [
    "player_stats = pd.merge(player_box, player_info, on='player_id_AND_season', how='outer')"
   ]
  },
  {
   "cell_type": "code",
   "execution_count": 87,
   "metadata": {
    "id": "0xDIvj0DkaP8",
    "colab_type": "code",
    "colab": {
     "base_uri": "https://localhost:8080/",
     "height": 35.0
    },
    "outputId": "9749e551-f06c-42ef-bdda-3b92f89549e8"
   },
   "outputs": [
    {
     "data": {
      "text/plain": [
       "705907"
      ]
     },
     "execution_count": 87,
     "metadata": {
      "tags": []
     },
     "output_type": "execute_result"
    }
   ],
   "source": [
    "len(player_stats)"
   ]
  },
  {
   "cell_type": "code",
   "execution_count": 89,
   "metadata": {
    "id": "TaAquVIkkrqa",
    "colab_type": "code",
    "colab": {
     "base_uri": "https://localhost:8080/",
     "height": 493.0
    },
    "outputId": "923975a3-eba7-4bd6-efd2-5dfa818909ff"
   },
   "outputs": [
    {
     "data": {
      "text/html": [
       "<div>\n",
       "<style scoped>\n",
       "    .dataframe tbody tr th:only-of-type {\n",
       "        vertical-align: middle;\n",
       "    }\n",
       "\n",
       "    .dataframe tbody tr th {\n",
       "        vertical-align: top;\n",
       "    }\n",
       "\n",
       "    .dataframe thead th {\n",
       "        text-align: right;\n",
       "    }\n",
       "</style>\n",
       "<table border=\"1\" class=\"dataframe\">\n",
       "  <thead>\n",
       "    <tr style=\"text-align: right;\">\n",
       "      <th></th>\n",
       "      <th>team_code_x</th>\n",
       "      <th>season_x</th>\n",
       "      <th>game_id</th>\n",
       "      <th>game_date</th>\n",
       "      <th>player_id_x</th>\n",
       "      <th>jersey_num</th>\n",
       "      <th>pts</th>\n",
       "      <th>fga</th>\n",
       "      <th>fga3</th>\n",
       "      <th>fgm</th>\n",
       "      <th>...</th>\n",
       "      <th>season_y</th>\n",
       "      <th>class_desc</th>\n",
       "      <th>xml_name</th>\n",
       "      <th>school</th>\n",
       "      <th>conference</th>\n",
       "      <th>height_ft</th>\n",
       "      <th>conference_id</th>\n",
       "      <th>player_id_y</th>\n",
       "      <th>position</th>\n",
       "      <th>team_code_y</th>\n",
       "    </tr>\n",
       "  </thead>\n",
       "  <tbody>\n",
       "    <tr>\n",
       "      <th>0</th>\n",
       "      <td>1004.0</td>\n",
       "      <td>2017.0</td>\n",
       "      <td>1004-23008-2017-11-12</td>\n",
       "      <td>2017-11-12</td>\n",
       "      <td>1635375.0</td>\n",
       "      <td>01</td>\n",
       "      <td>24.0</td>\n",
       "      <td>13.0</td>\n",
       "      <td>4.0</td>\n",
       "      <td>10.0</td>\n",
       "      <td>...</td>\n",
       "      <td>2017.0</td>\n",
       "      <td>Sr.</td>\n",
       "      <td>HOWARD,JORDAN</td>\n",
       "      <td>Central Ark.</td>\n",
       "      <td>Southland</td>\n",
       "      <td>5.0</td>\n",
       "      <td>914.0</td>\n",
       "      <td>1635375.0</td>\n",
       "      <td>G</td>\n",
       "      <td>1004.0</td>\n",
       "    </tr>\n",
       "    <tr>\n",
       "      <th>1</th>\n",
       "      <td>1004.0</td>\n",
       "      <td>2017.0</td>\n",
       "      <td>1004-676-2018-01-24</td>\n",
       "      <td>2018-01-24</td>\n",
       "      <td>1635375.0</td>\n",
       "      <td>01</td>\n",
       "      <td>43.0</td>\n",
       "      <td>19.0</td>\n",
       "      <td>8.0</td>\n",
       "      <td>11.0</td>\n",
       "      <td>...</td>\n",
       "      <td>2017.0</td>\n",
       "      <td>Sr.</td>\n",
       "      <td>HOWARD,JORDAN</td>\n",
       "      <td>Central Ark.</td>\n",
       "      <td>Southland</td>\n",
       "      <td>5.0</td>\n",
       "      <td>914.0</td>\n",
       "      <td>1635375.0</td>\n",
       "      <td>G</td>\n",
       "      <td>1004.0</td>\n",
       "    </tr>\n",
       "    <tr>\n",
       "      <th>2</th>\n",
       "      <td>1004.0</td>\n",
       "      <td>2017.0</td>\n",
       "      <td>107-1004-2017-12-06</td>\n",
       "      <td>2017-12-06</td>\n",
       "      <td>1635375.0</td>\n",
       "      <td>1</td>\n",
       "      <td>26.0</td>\n",
       "      <td>19.0</td>\n",
       "      <td>10.0</td>\n",
       "      <td>9.0</td>\n",
       "      <td>...</td>\n",
       "      <td>2017.0</td>\n",
       "      <td>Sr.</td>\n",
       "      <td>HOWARD,JORDAN</td>\n",
       "      <td>Central Ark.</td>\n",
       "      <td>Southland</td>\n",
       "      <td>5.0</td>\n",
       "      <td>914.0</td>\n",
       "      <td>1635375.0</td>\n",
       "      <td>G</td>\n",
       "      <td>1004.0</td>\n",
       "    </tr>\n",
       "    <tr>\n",
       "      <th>3</th>\n",
       "      <td>1004.0</td>\n",
       "      <td>2017.0</td>\n",
       "      <td>1356-1004-2018-03-14</td>\n",
       "      <td>2018-03-14</td>\n",
       "      <td>1635375.0</td>\n",
       "      <td>01</td>\n",
       "      <td>30.0</td>\n",
       "      <td>23.0</td>\n",
       "      <td>11.0</td>\n",
       "      <td>11.0</td>\n",
       "      <td>...</td>\n",
       "      <td>2017.0</td>\n",
       "      <td>Sr.</td>\n",
       "      <td>HOWARD,JORDAN</td>\n",
       "      <td>Central Ark.</td>\n",
       "      <td>Southland</td>\n",
       "      <td>5.0</td>\n",
       "      <td>914.0</td>\n",
       "      <td>1635375.0</td>\n",
       "      <td>G</td>\n",
       "      <td>1004.0</td>\n",
       "    </tr>\n",
       "    <tr>\n",
       "      <th>4</th>\n",
       "      <td>1004.0</td>\n",
       "      <td>2017.0</td>\n",
       "      <td>2-1004-2018-02-24</td>\n",
       "      <td>2018-02-24</td>\n",
       "      <td>1635375.0</td>\n",
       "      <td>01</td>\n",
       "      <td>29.0</td>\n",
       "      <td>19.0</td>\n",
       "      <td>8.0</td>\n",
       "      <td>11.0</td>\n",
       "      <td>...</td>\n",
       "      <td>2017.0</td>\n",
       "      <td>Sr.</td>\n",
       "      <td>HOWARD,JORDAN</td>\n",
       "      <td>Central Ark.</td>\n",
       "      <td>Southland</td>\n",
       "      <td>5.0</td>\n",
       "      <td>914.0</td>\n",
       "      <td>1635375.0</td>\n",
       "      <td>G</td>\n",
       "      <td>1004.0</td>\n",
       "    </tr>\n",
       "  </tbody>\n",
       "</table>\n",
       "<p>5 rows × 40 columns</p>\n",
       "</div>"
      ],
      "text/plain": [
       "   team_code_x  season_x                game_id   game_date  player_id_x  \\\n",
       "0       1004.0    2017.0  1004-23008-2017-11-12  2017-11-12    1635375.0   \n",
       "1       1004.0    2017.0    1004-676-2018-01-24  2018-01-24    1635375.0   \n",
       "2       1004.0    2017.0    107-1004-2017-12-06  2017-12-06    1635375.0   \n",
       "3       1004.0    2017.0   1356-1004-2018-03-14  2018-03-14    1635375.0   \n",
       "4       1004.0    2017.0      2-1004-2018-02-24  2018-02-24    1635375.0   \n",
       "\n",
       "  jersey_num   pts   fga  fga3   fgm     ...       season_y  class_desc  \\\n",
       "0         01  24.0  13.0   4.0  10.0     ...         2017.0         Sr.   \n",
       "1         01  43.0  19.0   8.0  11.0     ...         2017.0         Sr.   \n",
       "2          1  26.0  19.0  10.0   9.0     ...         2017.0         Sr.   \n",
       "3         01  30.0  23.0  11.0  11.0     ...         2017.0         Sr.   \n",
       "4         01  29.0  19.0   8.0  11.0     ...         2017.0         Sr.   \n",
       "\n",
       "        xml_name        school  conference  height_ft  conference_id  \\\n",
       "0  HOWARD,JORDAN  Central Ark.   Southland        5.0          914.0   \n",
       "1  HOWARD,JORDAN  Central Ark.   Southland        5.0          914.0   \n",
       "2  HOWARD,JORDAN  Central Ark.   Southland        5.0          914.0   \n",
       "3  HOWARD,JORDAN  Central Ark.   Southland        5.0          914.0   \n",
       "4  HOWARD,JORDAN  Central Ark.   Southland        5.0          914.0   \n",
       "\n",
       "   player_id_y  position  team_code_y  \n",
       "0    1635375.0         G       1004.0  \n",
       "1    1635375.0         G       1004.0  \n",
       "2    1635375.0         G       1004.0  \n",
       "3    1635375.0         G       1004.0  \n",
       "4    1635375.0         G       1004.0  \n",
       "\n",
       "[5 rows x 40 columns]"
      ]
     },
     "execution_count": 89,
     "metadata": {
      "tags": []
     },
     "output_type": "execute_result"
    }
   ],
   "source": [
    "player_stats[\"season\"]"
   ]
  },
  {
   "cell_type": "code",
   "execution_count": 0,
   "metadata": {
    "id": "oDLD0UONZ4c8",
    "colab_type": "code",
    "colab": {}
   },
   "outputs": [],
   "source": [
    ""
   ]
  },
  {
   "cell_type": "code",
   "execution_count": 0,
   "metadata": {
    "id": "ofrULtTqJXE5",
    "colab_type": "code",
    "colab": {}
   },
   "outputs": [],
   "source": [
    "from sklearn.model_selection import train_test_split\n",
    "\n",
    "X_train, X_test, y_train, y_test = train_test_split(X, y, test_size=0.2, random_state=42)\n",
    "\n"
   ]
  },
  {
   "cell_type": "code",
   "execution_count": 0,
   "metadata": {
    "id": "FTZnWFae5eO4",
    "colab_type": "code",
    "colab": {}
   },
   "outputs": [],
   "source": [
    "# from sklearn.tree import DecisionTreeClassifier\n",
    "\n",
    "\n",
    "# tree_clf = DecisionTreeClassifier(max_depth=4, random_state=42)\n",
    "# tree_clf.fit(X_train, y_train)\n"
   ]
  },
  {
   "cell_type": "code",
   "execution_count": 0,
   "metadata": {
    "id": "lP5DBdltHbL0",
    "colab_type": "code",
    "colab": {}
   },
   "outputs": [],
   "source": [
    "from sklearn.tree import export_graphviz\n",
    "\n",
    "export_graphviz(\n",
    "        tree_clf,\n",
    "        out_file=\"/tmp/iris_tree.dot\",\n",
    "        feature_names=iris.feature_names[2:],\n",
    "        class_names=iris.target_names,\n",
    "        rounded=True,\n",
    "        filled=True\n",
    "    )"
   ]
  },
  {
   "cell_type": "code",
   "execution_count": 0,
   "metadata": {
    "id": "sXYRImCWLIDE",
    "colab_type": "code",
    "colab": {}
   },
   "outputs": [],
   "source": [
    "log_clf = LogisticRegression(random_state=42)\n",
    "rnd_clf = RandomForestClassifier(random_state=42)\n",
    "svm_clf = SVC(probability=True, random_state=42)"
   ]
  },
  {
   "cell_type": "code",
   "execution_count": 0,
   "metadata": {
    "id": "pMDwK81hLKIP",
    "colab_type": "code",
    "colab": {}
   },
   "outputs": [],
   "source": [
    "voting_clf = VotingClassifier(\n",
    "    estimators=[('lr', log_clf), ('rf', rnd_clf), ('svc', svm_clf)],\n",
    "    voting='soft')\n",
    "\n",
    "voting_clf.fit(X_train, y_train)"
   ]
  },
  {
   "cell_type": "code",
   "execution_count": 0,
   "metadata": {
    "id": "69onvpDbLEKW",
    "colab_type": "code",
    "colab": {}
   },
   "outputs": [],
   "source": [
    "from sklearn.metrics import accuracy_score\n",
    "\n",
    "for clf in (log_clf, rnd_clf, svm_clf, voting_clf):\n",
    "    clf.fit(X_train, y_train)\n",
    "    y_pred = clf.predict(X_test)\n",
    "    print(clf.__class__.__name__, accuracy_score(y_test, y_pred))"
   ]
  },
  {
   "cell_type": "code",
   "execution_count": 0,
   "metadata": {
    "id": "MKinI_SxLdup",
    "colab_type": "code",
    "colab": {}
   },
   "outputs": [],
   "source": [
    ""
   ]
  }
 ],
 "metadata": {
  "colab": {
   "name": "NBC Draft Pred",
   "version": "0.3.2",
   "provenance": [],
   "collapsed_sections": []
  },
  "kernelspec": {
   "name": "python3",
   "display_name": "Python 3"
  },
  "accelerator": "GPU"
 },
 "nbformat": 4,
 "nbformat_minor": 0
}
