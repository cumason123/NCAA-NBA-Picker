{
  "nbformat": 4,
  "nbformat_minor": 0,
  "metadata": {
    "colab": {
      "name": "Game Prediction",
      "version": "0.3.2",
      "provenance": [],
      "collapsed_sections": [],
      "toc_visible": true,
      "include_colab_link": true
    },
    "kernelspec": {
      "name": "python3",
      "display_name": "Python 3"
    },
    "accelerator": "GPU"
  },
  "cells": [
    {
      "cell_type": "markdown",
      "metadata": {
        "id": "view-in-github",
        "colab_type": "text"
      },
      "source": [
        "<a href=\"https://colab.research.google.com/github/cumason123/NCAA-NBA-Picker/blob/master/Game_Prediction.ipynb\" target=\"_parent\"><img src=\"https://colab.research.google.com/assets/colab-badge.svg\" alt=\"Open In Colab\"/></a>"
      ]
    },
    {
      "metadata": {
        "id": "PRHiFSu1HUTG",
        "colab_type": "text"
      },
      "cell_type": "markdown",
      "source": [
        "# About\n",
        "\n",
        "Summary: Uses neural networks to predict outcomes of games\n",
        "\n",
        "All work done in this colab is by Julius Frost  \n",
        "https://github.com/juliusfrost  \n",
        "https://linkedin.com/in/juliusfrost/"
      ]
    },
    {
      "metadata": {
        "id": "70EXPwHiN3h1",
        "colab_type": "text"
      },
      "cell_type": "markdown",
      "source": [
        "# Import necessary data and libraries"
      ]
    },
    {
      "metadata": {
        "id": "_jPgFx3Klxbb",
        "colab_type": "code",
        "outputId": "650f9774-2160-413b-d38f-d6d767c49540",
        "colab": {
          "base_uri": "https://localhost:8080/",
          "height": 35
        }
      },
      "cell_type": "code",
      "source": [
        "from google.colab import auth\n",
        "auth.authenticate_user()\n",
        "print('Authenticated')\n",
        "\n",
        "import tensorflow as tf\n",
        "import pandas as pd\n",
        "import numpy as np\n",
        "import matplotlib.pyplot as plt\n",
        "\n",
        "#tf.enable_eager_execution()\n",
        "\n"
      ],
      "execution_count": 0,
      "outputs": [
        {
          "output_type": "stream",
          "text": [
            "Authenticated\n"
          ],
          "name": "stdout"
        }
      ]
    },
    {
      "metadata": {
        "id": "RhCFh5aPZLdX",
        "colab_type": "text"
      },
      "cell_type": "markdown",
      "source": [
        "###Download dataset"
      ]
    },
    {
      "metadata": {
        "id": "Ud-kSx76ZK98",
        "colab_type": "code",
        "outputId": "01eaca29-e030-4188-c3fb-ce7ac0d1227b",
        "colab": {
          "base_uri": "https://localhost:8080/",
          "height": 104
        }
      },
      "cell_type": "code",
      "source": [
        "!gsutil cp gs://stardust-hackathon/ncaa-mbb/player_box.csv /tmp/\n",
        "\n",
        "df = pd.read_csv(\"/tmp/player_box.csv\")"
      ],
      "execution_count": 0,
      "outputs": [
        {
          "output_type": "stream",
          "text": [
            "Copying gs://stardust-hackathon/ncaa-mbb/player_box.csv...\n",
            "- [1 files][ 71.6 MiB/ 71.6 MiB]                                                \n",
            "Operation completed over 1 objects/71.6 MiB.                                     \n"
          ],
          "name": "stdout"
        },
        {
          "output_type": "stream",
          "text": [
            "/usr/local/lib/python3.6/dist-packages/IPython/core/interactiveshell.py:2718: DtypeWarning: Columns (5) have mixed types. Specify dtype option on import or set low_memory=False.\n",
            "  interactivity=interactivity, compiler=compiler, result=result)\n"
          ],
          "name": "stderr"
        }
      ]
    },
    {
      "metadata": {
        "id": "kgECcsPp2qWB",
        "colab_type": "text"
      },
      "cell_type": "markdown",
      "source": [
        "# Data Preprocessing"
      ]
    },
    {
      "metadata": {
        "id": "T192lAjCZa2b",
        "colab_type": "text"
      },
      "cell_type": "markdown",
      "source": [
        "##Formatting"
      ]
    },
    {
      "metadata": {
        "id": "zR0HIUrT2CxW",
        "colab_type": "text"
      },
      "cell_type": "markdown",
      "source": [
        "### check data format"
      ]
    },
    {
      "metadata": {
        "id": "FTZnWFae5eO4",
        "colab_type": "code",
        "outputId": "aac1b9c8-5163-4487-cac5-05c16288549f",
        "colab": {
          "base_uri": "https://localhost:8080/",
          "height": 659
        }
      },
      "cell_type": "code",
      "source": [
        "print(df.head(10))"
      ],
      "execution_count": 0,
      "outputs": [
        {
          "output_type": "stream",
          "text": [
            "   team_code  season             game_id   game_date  player_id jersey_num  \\\n",
            "0      768.0    2018    327-768-2019-1-9  2019-01-09  2082634.0          1   \n",
            "1      768.0    2018   698-768-2019-1-15  2019-01-15  2082634.0          1   \n",
            "2      768.0    2018  768-606-2018-11-18  2018-11-18  2082634.0          1   \n",
            "3      768.0    2018  768-352-2018-12-30  2018-12-30  2082634.0          1   \n",
            "4      768.0    2018   768-521-2019-1-12  2019-01-12  2082634.0          1   \n",
            "5      768.0    2018    768-51-2019-1-21  2019-01-21  2082634.0          1   \n",
            "6      768.0    2018  768-315-2018-12-22  2018-12-22  2082634.0          1   \n",
            "7      768.0    2018    703-768-2019-1-5  2019-01-05  2082634.0          1   \n",
            "8      768.0    2018   768-328-2019-1-19  2019-01-19  2082634.0          1   \n",
            "9      768.0    2018    768-700-2019-1-2  2019-01-02  2082634.0          1   \n",
            "\n",
            "    pts   fga  fga3  fgm     ...       ast  blk  stl  dreb  oreb   reb   pf  \\\n",
            "0  17.0  14.0   0.0  7.0     ...       0.0  1.0  0.0   5.0   7.0  12.0  1.0   \n",
            "1   8.0   4.0   0.0  3.0     ...       2.0  0.0  0.0   3.0   1.0   4.0  3.0   \n",
            "2   0.0   0.0   0.0  0.0     ...       0.0  0.0  0.0   0.0   0.0   0.0  0.0   \n",
            "3  11.0   6.0   0.0  4.0     ...       1.0  1.0  0.0   5.0   6.0  11.0  2.0   \n",
            "4  15.0   8.0   0.0  5.0     ...       1.0  2.0  1.0  11.0   4.0  15.0  3.0   \n",
            "5   3.0   8.0   0.0  1.0     ...       0.0  0.0  0.0   7.0   1.0   8.0  4.0   \n",
            "6   4.0   4.0   0.0  2.0     ...       0.0  1.0  0.0   0.0   1.0   1.0  3.0   \n",
            "7  17.0  12.0   0.0  8.0     ...       1.0  0.0  0.0   4.0   5.0   9.0  3.0   \n",
            "8  11.0  10.0   0.0  4.0     ...       3.0  1.0  1.0   5.0   2.0   7.0  4.0   \n",
            "9  12.0   4.0   0.0  3.0     ...       2.0  0.0  0.0   7.0   1.0   8.0  2.0   \n",
            "\n",
            "    tf  tov  mins_played  \n",
            "0  0.0  1.0         34.0  \n",
            "1  0.0  0.0         22.0  \n",
            "2  0.0  0.0          0.0  \n",
            "3  0.0  1.0         19.0  \n",
            "4  0.0  1.0         27.0  \n",
            "5  0.0  1.0         24.0  \n",
            "6  0.0  1.0         10.0  \n",
            "7  0.0  1.0         22.0  \n",
            "8  0.0  3.0         27.0  \n",
            "9  0.0  2.0         28.0  \n",
            "\n",
            "[10 rows x 23 columns]\n"
          ],
          "name": "stdout"
        }
      ]
    },
    {
      "metadata": {
        "id": "e8r4upQn2Hbu",
        "colab_type": "text"
      },
      "cell_type": "markdown",
      "source": [
        "### drop NANs"
      ]
    },
    {
      "metadata": {
        "id": "NJr0t5Qv8Ujk",
        "colab_type": "code",
        "colab": {}
      },
      "cell_type": "code",
      "source": [
        "df = df.dropna()"
      ],
      "execution_count": 0,
      "outputs": []
    },
    {
      "metadata": {
        "id": "YDNSCNsc8Yo0",
        "colab_type": "text"
      },
      "cell_type": "markdown",
      "source": [
        "### unique stats"
      ]
    },
    {
      "metadata": {
        "id": "6PH7KMAm76KI",
        "colab_type": "code",
        "outputId": "2b4fc49c-66da-4400-e903-b6cd6437b24d",
        "colab": {
          "base_uri": "https://localhost:8080/",
          "height": 35
        }
      },
      "cell_type": "code",
      "source": [
        "game_ids = df['game_id'].unique()\n",
        "print('Number of unique games in the dataset =',len(game_ids))"
      ],
      "execution_count": 0,
      "outputs": [
        {
          "output_type": "stream",
          "text": [
            "Number of unique games in the dataset = 34006\n"
          ],
          "name": "stdout"
        }
      ]
    },
    {
      "metadata": {
        "id": "jK9PSn8lVZVP",
        "colab_type": "code",
        "outputId": "4ea4cd2d-e330-4fc5-9519-53dee048f655",
        "colab": {
          "base_uri": "https://localhost:8080/",
          "height": 35
        }
      },
      "cell_type": "code",
      "source": [
        "player_ids = df['player_id'].unique().astype('int32')\n",
        "print('Number of unique players in the dataset =', len(player_ids))"
      ],
      "execution_count": 0,
      "outputs": [
        {
          "output_type": "stream",
          "text": [
            "Number of unique players in the dataset = 33730\n"
          ],
          "name": "stdout"
        }
      ]
    },
    {
      "metadata": {
        "id": "s1knT-MD2Waf",
        "colab_type": "text"
      },
      "cell_type": "markdown",
      "source": [
        "### separate data by players"
      ]
    },
    {
      "metadata": {
        "id": "uBVyx4MeVr69",
        "colab_type": "code",
        "outputId": "7c764ee2-2ece-478d-c712-ffbfb31ee003",
        "colab": {
          "base_uri": "https://localhost:8080/",
          "height": 624
        }
      },
      "cell_type": "code",
      "source": [
        "player_data = []\n",
        "for i, player in enumerate(player_ids):\n",
        "    if i % 1000 == 0:\n",
        "        print(i)\n",
        "    player_data.append(df[df['player_id'] == player].values)\n",
        "print(len(player_data))"
      ],
      "execution_count": 0,
      "outputs": [
        {
          "output_type": "stream",
          "text": [
            "0\n",
            "1000\n",
            "2000\n",
            "3000\n",
            "4000\n",
            "5000\n",
            "6000\n",
            "7000\n",
            "8000\n",
            "9000\n",
            "10000\n",
            "11000\n",
            "12000\n",
            "13000\n",
            "14000\n",
            "15000\n",
            "16000\n",
            "17000\n",
            "18000\n",
            "19000\n",
            "20000\n",
            "21000\n",
            "22000\n",
            "23000\n",
            "24000\n",
            "25000\n",
            "26000\n",
            "27000\n",
            "28000\n",
            "29000\n",
            "30000\n",
            "31000\n",
            "32000\n",
            "33000\n",
            "33730\n"
          ],
          "name": "stdout"
        }
      ]
    },
    {
      "metadata": {
        "id": "Wb2p1aAe9Eep",
        "colab_type": "text"
      },
      "cell_type": "markdown",
      "source": [
        "###separate data by game"
      ]
    },
    {
      "metadata": {
        "id": "IKouAqbY9HzN",
        "colab_type": "code",
        "outputId": "d2a12b73-003b-4a5c-b099-05eb32a06c80",
        "colab": {
          "base_uri": "https://localhost:8080/",
          "height": 52
        }
      },
      "cell_type": "code",
      "source": [
        "game_data = []\n",
        "for i, game in enumerate(game_ids):\n",
        "    if i > 100:\n",
        "        break\n",
        "    game_data.append(df[df['game_id'] == game].values)\n",
        "print(len(game_data))\n",
        "print(len(game_data[0]))"
      ],
      "execution_count": 0,
      "outputs": [
        {
          "output_type": "stream",
          "text": [
            "101\n",
            "22\n"
          ],
          "name": "stdout"
        }
      ]
    },
    {
      "metadata": {
        "id": "yz7qYweu2kb9",
        "colab_type": "text"
      },
      "cell_type": "markdown",
      "source": [
        "### show data statistics"
      ]
    },
    {
      "metadata": {
        "id": "qO_yTzZRW96n",
        "colab_type": "code",
        "outputId": "47481083-0e63-4985-d7cc-0d3326662c27",
        "colab": {
          "base_uri": "https://localhost:8080/",
          "height": 156
        }
      },
      "cell_type": "code",
      "source": [
        "print(type(player_data), type(player_data[0]))\n",
        "#print(player_data[0])\n",
        "print('example data for one game of one player')\n",
        "print(player_data[0][0])\n",
        "print()\n",
        "\n",
        "games_available = []\n",
        "num_players = len(player_data)\n",
        "for player_info in player_data:\n",
        "    number_games = len(player_info)\n",
        "    games_available.append(number_games)\n",
        "\n",
        "median_games = np.median(games_available)\n",
        "mean_games = np.mean(games_available)\n",
        "std_games = np.std(games_available)\n",
        "\n",
        "print('median_games =',median_games)\n",
        "print('mean_games =',mean_games)\n",
        "print('std_games =',std_games)"
      ],
      "execution_count": 0,
      "outputs": [
        {
          "output_type": "stream",
          "text": [
            "<class 'list'> <class 'numpy.ndarray'>\n",
            "example data for one game of one player\n",
            "[768.0 2018 '327-768-2019-1-9' '2019-01-09' 2082634.0 1 17.0 14.0 0.0 7.0\n",
            " 0.0 5.0 3.0 0.0 1.0 0.0 5.0 7.0 12.0 1.0 0.0 1.0 34.0]\n",
            "\n",
            "median_games = 14.0\n",
            "mean_games = 21.100711532760155\n",
            "std_games = 25.962066607791115\n"
          ],
          "name": "stdout"
        }
      ]
    },
    {
      "metadata": {
        "id": "_5AThEZAY3mX",
        "colab_type": "text"
      },
      "cell_type": "markdown",
      "source": [
        "##Visualization"
      ]
    },
    {
      "metadata": {
        "id": "4r1aTNCA4R9p",
        "colab_type": "text"
      },
      "cell_type": "markdown",
      "source": [
        "###  Plot the number of games per player\n",
        "Notice that very many only played a couple games, while there are multiple modes for more experienced players. The distribution thins with the amount of games, since it is less common for people to spend a lot of time in NCAA.\n",
        "My hypothesis is that the modes depend on the number of years you spend in college and the number of games there are in a season.\n",
        "So the mode locations will be a equal to seasons per player * games per season.\n"
      ]
    },
    {
      "metadata": {
        "id": "qSS9RjznZTa0",
        "colab_type": "code",
        "outputId": "e149db3a-e233-425a-eb7a-44e2994d558b",
        "colab": {
          "base_uri": "https://localhost:8080/",
          "height": 756
        }
      },
      "cell_type": "code",
      "source": [
        "plt.hist(games_available, bins=50)\n",
        "plt.title('Game data available per player in dataset', fontsize = 16)\n",
        "plt.xlabel('number of games', fontsize=18)\n",
        "plt.ylabel('number of players', fontsize=16)\n",
        "plt.show()\n",
        "\n",
        "plt.hist(games_available, bins=50, range=(0,50))\n",
        "plt.title('Game data available per player in dataset (within 50)', fontsize = 16)\n",
        "plt.xlabel('number of games', fontsize=18)\n",
        "plt.ylabel('number of players', fontsize=16)\n",
        "plt.show()"
      ],
      "execution_count": 0,
      "outputs": [
        {
          "output_type": "display_data",
          "data": {
            "image/png": "[encoded data removed]",
            "text/plain": [
              "<Figure size 576x396 with 1 Axes>"
            ]
          },
          "metadata": {
            "tags": []
          }
        },
        {
          "output_type": "display_data",
          "data": {
            "image/png": "[encoded data removed]",
            "text/plain": [
              "<Figure size 576x396 with 1 Axes>"
            ]
          },
          "metadata": {
            "tags": []
          }
        }
      ]
    },
    {
      "metadata": {
        "id": "4_ki04r7eSH7",
        "colab_type": "text"
      },
      "cell_type": "markdown",
      "source": [
        "## Create training data"
      ]
    },
    {
      "metadata": {
        "id": "6Gk30ZYKFOMI",
        "colab_type": "code",
        "outputId": "bd7cd7c4-8086-42cc-9836-29ab2c799eb1",
        "colab": {
          "base_uri": "https://localhost:8080/",
          "height": 156
        }
      },
      "cell_type": "code",
      "source": [
        "training_features = df.loc[:, 'pts':'mins_played':1].astype('float32').values\n",
        "training_labels = df['player_id'].astype('int32').values\n",
        "\n",
        "print(training_features.shape)\n",
        "print(training_features[:5])\n",
        "print(training_labels.shape)\n",
        "print(training_labels[:5])"
      ],
      "execution_count": 0,
      "outputs": [
        {
          "output_type": "stream",
          "text": [
            "(711727, 17)\n",
            "[[17. 14.  0.  7.  0.  5.  3.  0.  1.  0.  5.  7. 12.  1.  0.  1. 34.]\n",
            " [ 8.  4.  0.  3.  0.  4.  2.  2.  0.  0.  3.  1.  4.  3.  0.  0. 22.]\n",
            " [ 0.  0.  0.  0.  0.  0.  0.  0.  0.  0.  0.  0.  0.  0.  0.  0.  0.]\n",
            " [11.  6.  0.  4.  0.  7.  3.  1.  1.  0.  5.  6. 11.  2.  0.  1. 19.]\n",
            " [15.  8.  0.  5.  0.  6.  5.  1.  2.  1. 11.  4. 15.  3.  0.  1. 27.]]\n",
            "(711727,)\n",
            "[2082634 2082634 2082634 2082634 2082634]\n"
          ],
          "name": "stdout"
        }
      ]
    },
    {
      "metadata": {
        "id": "goEvJMVAilO2",
        "colab_type": "code",
        "outputId": "fb20d5df-c67a-49aa-a079-cbcd43e67bc5",
        "colab": {
          "base_uri": "https://localhost:8080/",
          "height": 69
        }
      },
      "cell_type": "code",
      "source": [
        "num_examples, num_features = training_features.shape\n",
        "num_labels = len(player_ids)\n",
        "\n",
        "print('num_examples =',num_examples)\n",
        "print('num_features =',num_features)\n",
        "print('num_labels =',num_labels)"
      ],
      "execution_count": 0,
      "outputs": [
        {
          "output_type": "stream",
          "text": [
            "num_examples = 711727\n",
            "num_features = 17\n",
            "num_labels = 33730\n"
          ],
          "name": "stdout"
        }
      ]
    },
    {
      "metadata": {
        "id": "WmrpzVdseXOJ",
        "colab_type": "code",
        "colab": {}
      },
      "cell_type": "code",
      "source": [
        "to_index = dict()\n",
        "to_player_id = dict()\n",
        "for i, player in enumerate(player_ids):\n",
        "    to_index.update({player:i})\n",
        "    to_player_id.update({i:player})"
      ],
      "execution_count": 0,
      "outputs": []
    },
    {
      "metadata": {
        "id": "vWttG7q1h8c_",
        "colab_type": "code",
        "colab": {}
      },
      "cell_type": "code",
      "source": [
        "for i, player in enumerate(training_labels):\n",
        "    training_labels[i] = to_index[player]"
      ],
      "execution_count": 0,
      "outputs": []
    },
    {
      "metadata": {
        "id": "ZYuCjtynADz5",
        "colab_type": "code",
        "outputId": "08115551-bd98-42ad-d3ee-c78e6a1a01dd",
        "colab": {
          "base_uri": "https://localhost:8080/",
          "height": 52
        }
      },
      "cell_type": "code",
      "source": [
        "batch_size = 2**18\n",
        "print('batch_size =', batch_size)\n",
        "\n",
        "#dataset = dataset.shuffle(buffer_size=100)\n",
        "dataset = tf.data.Dataset.from_tensor_slices((training_features, training_labels))\n",
        "dataset = dataset.batch(batch_size).repeat()\n",
        "print(dataset.output_shapes)"
      ],
      "execution_count": 0,
      "outputs": [
        {
          "output_type": "stream",
          "text": [
            "batch_size = 262144\n",
            "(TensorShape([Dimension(None), Dimension(17)]), TensorShape([Dimension(None)]))\n"
          ],
          "name": "stdout"
        }
      ]
    },
    {
      "metadata": {
        "id": "_VAvAH0I2cjr",
        "colab_type": "text"
      },
      "cell_type": "markdown",
      "source": [
        "#Training a model"
      ]
    },
    {
      "metadata": {
        "id": "5bshBLL4g6Zt",
        "colab_type": "text"
      },
      "cell_type": "markdown",
      "source": [
        "### Auto Encoder"
      ]
    },
    {
      "metadata": {
        "id": "TR280T0V50_e",
        "colab_type": "code",
        "colab": {}
      },
      "cell_type": "code",
      "source": [
        "num_inputs = num_features\n",
        "num_hid1 = 64\n",
        "num_hid2 = 10\n",
        "num_hid3 = num_hid1\n",
        "num_output = num_labels\n",
        "learning_rate = 0.0001\n",
        "activation = tf.nn.relu"
      ],
      "execution_count": 0,
      "outputs": []
    },
    {
      "metadata": {
        "id": "V_-_cxgD393r",
        "colab_type": "code",
        "colab": {}
      },
      "cell_type": "code",
      "source": [
        "iter = dataset.make_initializable_iterator()\n",
        "features, labels = iter.get_next()\n",
        "\n",
        "initializer = tf.variance_scaling_initializer()\n",
        "\n",
        "w1 = tf.Variable(initializer([num_inputs, num_hid1]), dtype = tf.float32)\n",
        "w2 = tf.Variable(initializer([num_hid1, num_hid2]), dtype = tf.float32)\n",
        "w3 = tf.Variable(initializer([num_hid2, num_hid3]), dtype = tf.float32)\n",
        "w4 = tf.Variable(initializer([num_hid3, num_output]), dtype = tf.float32)\n",
        "\n",
        "b1 = tf.Variable(tf.zeros(num_hid1))\n",
        "b2 = tf.Variable(tf.zeros(num_hid2))\n",
        "b3 = tf.Variable(tf.zeros(num_hid3))\n",
        "b4 = tf.Variable(tf.zeros(num_output))\n",
        "\n",
        "hid_layer1 = activation(tf.matmul(features, w1) + b1)\n",
        "hid_layer2 = activation(tf.matmul(hid_layer1, w2) + b2)\n",
        "hid_layer3 = activation(tf.matmul(hid_layer2, w3) + b3)\n",
        "logits = tf.matmul(hid_layer3, w4) + b4"
      ],
      "execution_count": 0,
      "outputs": []
    },
    {
      "metadata": {
        "id": "aPd8iraw5uo9",
        "colab_type": "code",
        "colab": {}
      },
      "cell_type": "code",
      "source": [
        "one_hot_labels = tf.one_hot(labels, num_labels)\n",
        "\n",
        "loss = tf.losses.softmax_cross_entropy(one_hot_labels, logits)\n",
        "\n",
        "\n",
        "optimizer=tf.train.AdamOptimizer(learning_rate)\n",
        "train=optimizer.minimize(loss)\n",
        "\n",
        "init=tf.global_variables_initializer()"
      ],
      "execution_count": 0,
      "outputs": []
    },
    {
      "metadata": {
        "id": "jGR2_FtD_0Jf",
        "colab_type": "code",
        "outputId": "db70468a-0493-4375-a7bc-4c91c26dca15",
        "colab": {
          "base_uri": "https://localhost:8080/",
          "height": 1803
        }
      },
      "cell_type": "code",
      "source": [
        "n_batches = num_examples // batch_size\n",
        "print('number of batches = ',n_batches)\n",
        "print('initializing...')\n",
        "with tf.Session() as sess:\n",
        "    sess.run(tf.global_variables_initializer())\n",
        "    # initialise iterator with train data\n",
        "    sess.run(iter.initializer)\n",
        "    print('Training...')\n",
        "    for i in range(100000):\n",
        "        tot_loss = 0\n",
        "        for j in range(n_batches):\n",
        "            _, loss_value = sess.run([train, loss])\n",
        "            tot_loss += loss_value\n",
        "            #print(\"Batch: {}, Loss: {:.4f}\".format(j, loss_value))\n",
        "        if i % 1000 == 0:\n",
        "            print(\"Iter: {}, Loss: {:.4f}\".format(i, tot_loss / n_batches))\n",
        "    # initialise iterator with test data\n",
        "    #sess.run(iter.initializer, feed_dict={ x: test_data[0], y: test_data[1], batch_size: test_data[0].shape[0]})\n",
        "    #print('Test Loss: {:4f}'.format(sess.run(loss)))\n"
      ],
      "execution_count": 0,
      "outputs": [
        {
          "output_type": "stream",
          "text": [
            "number of batches =  2\n",
            "initializing...\n",
            "Training...\n",
            "Iter: 0, Loss: 7.8739\n",
            "Iter: 1000, Loss: 10.4432\n",
            "Iter: 2000, Loss: 10.4524\n",
            "Iter: 3000, Loss: 10.4585\n",
            "Iter: 4000, Loss: 10.3953\n",
            "Iter: 5000, Loss: 10.4882\n",
            "Iter: 6000, Loss: 10.4714\n",
            "Iter: 7000, Loss: 10.3561\n",
            "Iter: 8000, Loss: 10.4754\n",
            "Iter: 9000, Loss: 10.4453\n",
            "Iter: 10000, Loss: 10.4391\n",
            "Iter: 11000, Loss: 10.5489\n",
            "Iter: 12000, Loss: 10.5450\n",
            "Iter: 13000, Loss: 10.5731\n",
            "Iter: 14000, Loss: 10.5740\n",
            "Iter: 15000, Loss: 10.4328\n",
            "Iter: 16000, Loss: 10.5898\n",
            "Iter: 17000, Loss: 10.5586\n",
            "Iter: 18000, Loss: 10.6118\n",
            "Iter: 19000, Loss: 10.6463\n",
            "Iter: 20000, Loss: 10.6250\n",
            "Iter: 21000, Loss: 10.6101\n",
            "Iter: 22000, Loss: 10.6663\n",
            "Iter: 23000, Loss: 10.6120\n",
            "Iter: 24000, Loss: 10.6742\n",
            "Iter: 25000, Loss: 10.6888\n",
            "Iter: 26000, Loss: 10.6982\n",
            "Iter: 27000, Loss: 10.6493\n",
            "Iter: 28000, Loss: 10.7303\n",
            "Iter: 29000, Loss: 10.7355\n",
            "Iter: 30000, Loss: 10.7377\n",
            "Iter: 31000, Loss: 10.6976\n",
            "Iter: 32000, Loss: 10.7440\n",
            "Iter: 33000, Loss: 10.6191\n",
            "Iter: 34000, Loss: 10.7896\n",
            "Iter: 35000, Loss: 10.7881\n",
            "Iter: 36000, Loss: 10.7571\n",
            "Iter: 37000, Loss: 10.7968\n",
            "Iter: 38000, Loss: 10.8244\n",
            "Iter: 39000, Loss: 10.8057\n",
            "Iter: 40000, Loss: 10.8415\n",
            "Iter: 41000, Loss: 10.8366\n",
            "Iter: 42000, Loss: 10.8605\n",
            "Iter: 43000, Loss: 10.8444\n",
            "Iter: 44000, Loss: 10.8724\n",
            "Iter: 45000, Loss: 10.8488\n",
            "Iter: 46000, Loss: 10.8842\n",
            "Iter: 47000, Loss: 10.7991\n",
            "Iter: 48000, Loss: 10.8576\n",
            "Iter: 49000, Loss: 10.9244\n",
            "Iter: 50000, Loss: 10.9166\n",
            "Iter: 51000, Loss: 10.9022\n",
            "Iter: 52000, Loss: 10.9344\n",
            "Iter: 53000, Loss: 10.9473\n",
            "Iter: 54000, Loss: 10.8644\n",
            "Iter: 55000, Loss: 10.9259\n",
            "Iter: 56000, Loss: 10.9546\n",
            "Iter: 57000, Loss: 10.9908\n",
            "Iter: 58000, Loss: 10.9601\n",
            "Iter: 59000, Loss: 10.9986\n",
            "Iter: 60000, Loss: 10.8850\n",
            "Iter: 61000, Loss: 10.9839\n",
            "Iter: 62000, Loss: 11.0015\n",
            "Iter: 63000, Loss: 10.9489\n",
            "Iter: 64000, Loss: 11.0478\n",
            "Iter: 65000, Loss: 11.0565\n",
            "Iter: 66000, Loss: 11.0066\n",
            "Iter: 67000, Loss: 11.0576\n",
            "Iter: 68000, Loss: 11.0756\n",
            "Iter: 69000, Loss: 11.0830\n",
            "Iter: 70000, Loss: 11.0159\n",
            "Iter: 71000, Loss: 11.0915\n",
            "Iter: 72000, Loss: 11.0944\n",
            "Iter: 73000, Loss: 11.1122\n",
            "Iter: 74000, Loss: 11.1299\n",
            "Iter: 75000, Loss: 11.1114\n",
            "Iter: 76000, Loss: 11.1380\n",
            "Iter: 77000, Loss: 11.1139\n",
            "Iter: 78000, Loss: 11.1580\n",
            "Iter: 79000, Loss: 11.1599\n",
            "Iter: 80000, Loss: 11.1697\n",
            "Iter: 81000, Loss: 11.1759\n",
            "Iter: 82000, Loss: 11.1844\n",
            "Iter: 83000, Loss: 11.1912\n",
            "Iter: 84000, Loss: 11.1517\n",
            "Iter: 85000, Loss: 11.1876\n",
            "Iter: 86000, Loss: 11.2206\n",
            "Iter: 87000, Loss: 11.2105\n",
            "Iter: 88000, Loss: 11.2159\n",
            "Iter: 89000, Loss: 11.2191\n",
            "Iter: 90000, Loss: 11.0476\n",
            "Iter: 91000, Loss: 11.2437\n",
            "Iter: 92000, Loss: 11.2546\n",
            "Iter: 93000, Loss: 11.2688\n",
            "Iter: 94000, Loss: 11.2681\n",
            "Iter: 95000, Loss: 11.2745\n",
            "Iter: 96000, Loss: 11.2374\n",
            "Iter: 97000, Loss: 11.2979\n",
            "Iter: 98000, Loss: 11.3008\n",
            "Iter: 99000, Loss: 11.3058\n"
          ],
          "name": "stdout"
        }
      ]
    },
    {
      "metadata": {
        "id": "nTl6b0SxgfRz",
        "colab_type": "text"
      },
      "cell_type": "markdown",
      "source": [
        "###RNN model\n",
        "Used previously to predict the box stats for the next game for a player given previous game box stats"
      ]
    },
    {
      "metadata": {
        "id": "UAz7Ws6YFtcA",
        "colab_type": "code",
        "colab": {}
      },
      "cell_type": "code",
      "source": [
        "import tensorflow as tf\n",
        "from tensorflow.contrib import rnn\n",
        "\n",
        "\n",
        "# Training Parameters\n",
        "learning_rate = 0.001\n",
        "training_steps = 10000\n",
        "batch_size = 1\n",
        "display_step = 200\n",
        "\n",
        "# Network Parameters\n",
        "num_input = 17\n",
        "timesteps = 9 # timesteps\n",
        "num_hidden = 128 # hidden layer num of features\n",
        "num_scores = 1 \n",
        "\n",
        "# tf Graph input\n",
        "X = tf.placeholder(\"float\", [None, timesteps, num_input])\n",
        "Y = tf.placeholder(\"float\", [None, num_scores])\n",
        "\n",
        "# Define weights\n",
        "weights = {\n",
        "    'out': tf.Variable(tf.random_normal([num_hidden, num_scores]))\n",
        "}\n",
        "biases = {\n",
        "    'out': tf.Variable(tf.random_normal([num_scores]))\n",
        "}\n",
        "\n",
        "\n",
        "def RNN(x, weights, biases):\n",
        "\n",
        "    # Prepare data shape to match `rnn` function requirements\n",
        "    # Current data input shape: (batch_size, timesteps, n_input)\n",
        "    # Required shape: 'timesteps' tensors list of shape (batch_size, n_input)\n",
        "\n",
        "    # Unstack to get a list of 'timesteps' tensors of shape (batch_size, n_input)\n",
        "    x = tf.unstack(x, timesteps, 1)\n",
        "\n",
        "    # Define a lstm cell with tensorflow\n",
        "    lstm_cell = rnn.BasicLSTMCell(num_hidden, forget_bias=1.0)\n",
        "\n",
        "    # Get lstm cell output\n",
        "    outputs, states = rnn.static_rnn(lstm_cell, x, dtype=tf.float32)\n",
        "\n",
        "    # Linear activation, using rnn inner loop last output\n",
        "    return tf.matmul(outputs[-1], weights['out']) + biases['out']\n",
        "\n",
        "logits = RNN(X, weights, biases)\n",
        "prediction = tf.nn.sigmoid(logits)\n",
        "\n",
        "# Define loss and optimizer\n",
        "loss_op = tf.reduce_mean(tf.nn.sigmoid_cross_entropy_with_logits(\n",
        "    logits=logits, labels=Y))\n",
        "optimizer = tf.train.GradientDescentOptimizer(learning_rate=learning_rate)\n",
        "train_op = optimizer.minimize(loss_op)\n",
        "\n",
        "# Evaluate model (with test logits, for dropout to be disabled)\n",
        "correct_pred = tf.equal(tf.argmax(prediction, 1), tf.argmax(Y, 1))\n",
        "accuracy = tf.reduce_mean(tf.cast(correct_pred, tf.float32))\n",
        "\n",
        "# Initialize the variables (i.e. assign their default value)\n",
        "init = tf.global_variables_initializer()\n",
        "\n",
        "\n",
        "\n",
        "# Start training\n",
        "with tf.Session() as sess:\n",
        "\n",
        "    # Run the initializer\n",
        "    sess.run(init)\n",
        "\n",
        "    for step in range(1, training_steps+1):\n",
        "        batch_x, batch_y = (x.values,y.values)  ######mnist.train.next_batch(batch_size)\n",
        "        # Reshape data to get 28 seq of 28 elements\n",
        "        batch_x = batch_x.reshape((batch_size, timesteps, num_input))\n",
        "        batch_y = batch_y.reshape((timesteps, num_scores))\n",
        "        # Run optimization op (backprop)\n",
        "        sess.run(train_op, feed_dict={X: batch_x, Y: batch_y})\n",
        "        if step % display_step == 0 or step == 1:\n",
        "            # Calculate batch loss and accuracy\n",
        "            loss, acc = sess.run([loss_op, accuracy], feed_dict={X: batch_x,\n",
        "                                                                 Y: batch_y})\n",
        "            print(\"Step \" + str(step) + \", Minibatch Loss= \" + \\\n",
        "                  \"{:.4f}\".format(loss) + \", Training Accuracy= \" + \\\n",
        "                  \"{:.3f}\".format(acc))\n",
        "\n",
        "    print(\"Optimization Finished!\")\n",
        "\n",
        "    test_len = 1\n",
        "    test_data = x.values.reshape(1,9,17)\n",
        "    test_label = y.values.reshape(9,1)\n",
        "    print(\"Testing Accuracy:\", \\\n",
        "        sess.run(accuracy, feed_dict={X: test_data, Y: test_label}))"
      ],
      "execution_count": 0,
      "outputs": []
    },
    {
      "metadata": {
        "id": "Kcvg1eZBmPNn",
        "colab_type": "code",
        "colab": {}
      },
      "cell_type": "code",
      "source": [
        "ytest = list(player_info.loc[:, 'pts'][:-1])\n",
        "#print(ytest)\n",
        "s = 0\n",
        "alpha = 0.7\n",
        "average = 0\n",
        "for i in range(0,9-1):\n",
        "    s = alpha * s + (1-alpha) * ytest[i]\n",
        "    average += abs(s - ytest[i+1])/(max(ytest[i+1], s))\n",
        "average /= 9\n",
        "print('exponential average estimation accuracy')\n",
        "print(average)"
      ],
      "execution_count": 0,
      "outputs": []
    }
  ]
}